{
 "cells": [
  {
   "cell_type": "markdown",
   "metadata": {},
   "source": [
    "import os\n",
    "import getpass"
   ]
  },
  {
   "cell_type": "code",
   "execution_count": 1,
   "metadata": {},
   "outputs": [],
   "source": [
    "from langchain.document_loaders import PyPDFLoader\n",
    "\n",
    "loader = PyPDFLoader(\"E:/Hackathon/2 - Raw text.pdf\" )\n",
    "pages = loader.load_and_split()"
   ]
  },
  {
   "cell_type": "code",
   "execution_count": 2,
   "metadata": {},
   "outputs": [
    {
     "data": {
      "text/plain": [
       "Document(page_content='[00:00:00] Ich würde Sie am Anfang bitten, dass Sie mir einen kurzen Überblick hinsichtlich der \\nLaufzeit geben. Die Forschungszulage geht seit 2020, das heißt, man kann auch retrospektive \\nEntwicklungsinhalte anbringen. Wichtig ist [00:00:15] Wichtig ist ab er immer, dass die gesamte \\nProjektlaufzeit abgesteckt wird. Das heißt, wenn es zum Beispiel 2021 begonnen hat, aber noch in die \\nZukunft reicht, dass man eben auch die komplette Projektlaufzeit bis zum produktiven Stadium \\nabdeckt. Wie wäre das denn bei XSL Katze [00:00:30] einzuordnen. Da würde ich auf jeden Fall den \\nStartpunkt 1. Januar 2023 nehmen. Annalena, ja, das ist in deinem Sinne und Alex auch weil wir \\nvorher ein Projekt hatten [00:00:45] hatten das mit Fördermitteln gefördert wurde und da hat die \\nAnnalena sehr viel gemacht und die sind quasi es hat ja quasi eins zu eins jetzt nach diesem Projekt \\nab Januar dann übergegangen in XXL Katze. Das würde ich dann so machen. [00:01:00] machen jetzt \\nvon der laufzeit keine ahnung gibt es da was was gut ist soll  man es zeit lassen soll man schnell \\nmachen soll man also ein typischer projektlaufzeit sind vier jahre über vier jahre würde ich nicht \\nempfehlen zwischen drei bis vier jahre wäre sehr gut also ein jahr nicht kurz wir würden den kunde \\nauf jeden fall auch m it rein nehmen dann würde ich gleich [00:01:15] Also ein Jahr reicht nicht kurz. \\nWir würden den Hund ja auf jeden Fall auch mit reinnehmen. Dann würde ich gleich... Zwei Jahre. Sag \\nmal so Ziel, dann würde ich das wirklich so machen. Weil die Katze wollen w ir schneller hinkriegen als \\njetzt vier Jahre. Da bringt uns unsere Chefin um. Aber wir wollen, wir hatten uns das ja so... Annalena, \\ndu musst mich unterbrechen, wenn [00:01:30] Aber wir hatten ja überlegt, dass wir quasi den Hund \\ngeschachtet hinterher pack en, weil die Arbeit ist ja ähnlich [00:01:45] ähnlich nicht gleich aber \\ndeswegen würde ich das dann vielleicht auch xxl katze und schrägstrich und und schrägstrich pferd \\nnennen dann kommen auch wahrscheinlich auf drei bis vier jahre würde ich dann auch bed eutet vier \\njahre [00:02:00] Jahre für meinen Seelenfrieden. Das soll quasi so geschachtelt bearbeitet werden, \\nwas wir bei der Katze gelernt haben, quasi dann auf den Hund übertragen. Da [00:02:15] Da hat man \\nja auch einen Lerneffekt, dass es quasi so inein ander wie beim Kuchenbacken immer ineinander \\nübergeht. Und der Kuchen ist nach vier Jahren, aber länger als vier Jahre machen wir nicht. Alles klar, \\ndas heißt bis Ende 26 [00:02:30] oder sollen wir es bis Mitte 26 legen? 23, 24, 25, Annalena, ich \\nmeine es ist mir egal. Er macht halt Ende 26. Dann haben wir ein großes Projekt mit vier Jahren, wo \\nman dann Stunden schreibt [00:02:45] Ja, denke ich auch. Was zum Nachjustieren oder so wird es ja \\nimmer noch mal geben, auch wenn es läuft, dann kommen neue Tests od er noch was optimieren. \\nAlso da denke ich mal wird Bedarf sein am Anfang. Ja, ja. Alles klar. Wir müssen das gleich als, \\n[00:03:00] Wir müssen das als möglichst methodisches Vorgehen darlegen können. Das heißt, dass \\npraktisch eine Methodik ihrerseits entwi ckelt wird, am Beispiel Katze, und dass das dann eben auch \\nauf Hund und Pferd übertragen werden kann. [00:03:15] Das heißt idealerweise auch methodisches \\nVorgehen beim Übertragen auf weitere Spezies, so dass man hier idealerweise darlegen kann, dass, \\nalso die Förderung gibt es zum Prototyp, dass praktisch einmal der Weg geebnet wird, eben am \\nBeispiel Katze, [00:03:30] Katze Hund Pferd oder es danach prinzipiell auch auf andere Tierarten \\nübertragen werden könnte. So wollen sie es schreiben also sie wollen je tzt nicht die Katze als \\nPrototyp und dann die Übertragung auf Hund und Pferd sondern dass man [00:03:45] Das machen \\nwir jetzt noch fürs Rind oder schlagen wir es tot? Ja, die Förderung geht halt bis zum Prototyp. Und \\nwenn wir sagen, dass praktisch nur die Katze der Prototyp ist, dann wäre es danach nicht mehr', metadata={'source': 'E:/Hackathon/2 - Raw text.pdf', 'page': 0})"
      ]
     },
     "execution_count": 2,
     "metadata": {},
     "output_type": "execute_result"
    }
   ],
   "source": [
    "pages[0]"
   ]
  },
  {
   "cell_type": "code",
   "execution_count": null,
   "metadata": {},
   "outputs": [],
   "source": [
    "h"
   ]
  }
 ],
 "metadata": {
  "kernelspec": {
   "display_name": "Python 3",
   "language": "python",
   "name": "python3"
  },
  "language_info": {
   "codemirror_mode": {
    "name": "ipython",
    "version": 3
   },
   "file_extension": ".py",
   "mimetype": "text/x-python",
   "name": "python",
   "nbconvert_exporter": "python",
   "pygments_lexer": "ipython3",
   "version": "3.11.1"
  },
  "orig_nbformat": 4
 },
 "nbformat": 4,
 "nbformat_minor": 2
}
